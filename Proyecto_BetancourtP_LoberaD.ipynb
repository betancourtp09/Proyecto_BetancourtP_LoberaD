{
 "cells": [
  {
   "cell_type": "markdown",
   "id": "385a7dcd",
   "metadata": {},
   "source": [
    "<img style=\"float: left; margin: 30px 15px 15px 15px;\" src=\"https://pngimage.net/wp-content/uploads/2018/06/logo-iteso-png-5.png\" width=\"300\" height=\"500\" /> \n",
    "    \n",
    "    \n",
    "### <font color='navy'> Simulación de procesos financieros. \n",
    "\n",
    "**Nombres:** Ragnar Betancourt Peraza y Cristina Lobera De la Mora.\n",
    "\n",
    "**Fecha:** 14/10/21.\n",
    "\n",
    "**Expediente** : if717467, if714997.\n",
    "**Profesor:** Oscar David Jaramillo Zuluaga.\n",
    "    \n",
    "**Link Github**: https://github.com/betancourtp09/Proyecto_BetancourtP_LoberaD\n",
    "\n",
    "# Proyecto TEMA #2 "
   ]
  },
  {
   "cell_type": "markdown",
   "id": "f68b221d",
   "metadata": {},
   "source": [
    "# Proyecto Módulo 2- Guía."
   ]
  },
  {
   "cell_type": "code",
   "execution_count": null,
   "id": "5ecd1429",
   "metadata": {},
   "outputs": [],
   "source": []
  },
  {
   "cell_type": "markdown",
   "id": "a4ca37c8",
   "metadata": {},
   "source": [
    "## 1. Entregable.\n",
    "Los trabajos deben tener los siguientes componentes básicos.\n",
    "​\n",
    "### 1.1 Título del trabajo.\n",
    "> El futuro del coronavirus.\n",
    "​\n",
    "### 1.2 Objetivos.\n",
    "> - utilizar las herramientas de programacion con vectores aprendidas en el curso\n",
    "> #### 1.1 Objetivo general.\n",
    ">  - Generar un modelo que nos permita hacer estimaciones en futuro cercano sobre la situación de la pandemia del COVID-19\n",
    "\n",
    "> #### 1.2 Objetivos específicos\n",
    ">  - Simular el número de casos confirmados, recuperaciones y muertes de COVID-19. \n",
    "\n",
    ">  - Obtener una distribución para los datos de casos confirmados, recuperaciones y muertes de COVID-19. \n",
    "\n",
    ">  - Estimar a partir de los datos obtenidos, el número de casos que se presentarán en un tiempo determinado.\n",
    "​\n",
    "Referencia:\n",
    "- https://es.slideshare.net/rosbur/metodologia-objetivos-generales-y-especficos\n",
    "​"
   ]
  },
  {
   "cell_type": "markdown",
   "id": "5bd67ef7",
   "metadata": {},
   "source": [
    "### 1.3 Definición del problema."
   ]
  },
  {
   "cell_type": "markdown",
   "id": "45ccb880",
   "metadata": {},
   "source": [
    "### 1.3 Definición del problema.\n",
    "> La COVID-19 es la enfermedad causada por el nuevo coronavirus conocido como SARS-CoV-2. La OMS tuvo noticia por primera vez de la existencia de este nuevo virus el 31 de diciembre de 2019, al ser informada de un grupo de casos de «neumonía vírica» que se habían declarado en Wuhan (República Popular China).\n",
    "Para este año hay mas de 8 vacunas en el mercado ademas de muchas vacunas experimentales, la OMS ha recalcado que estar vacunados no significa tirar por la borda las medidas preventivas y arriesgar nuestra salud y la de los demás, sobre todo porque todavía desconocemos el grado en que las vacunas protegen no solo contra la enfermedad sino también contra la infección y la transmisión.\n",
    "Con todo este desarrollo que ha sucedido, queremos saber que impacto han tenido estas distintas vacunas y como se ira desarrollando este virus a lo largo de un periodo temporal.\n",
    "\n",
    "### 1.4 Nodos y variables que se decidieron simular y porqué\n",
    "> Para llevar a cabo el proyecto, a partir de la información recabada, se decidió simular cómo las medidas de prevención con respecto a la propagación del virus podría lograr  disminuir el número de personas contagiadas y por ende fallecidas . Decidimos simular esto ya que la importancia del distanciamento social es clave para poder sobrevivir esta situación a la que nos enfrentamos.\n",
    "\n",
    "\n",
    "![diagrama.png](attachment:diagrama.png)\n"
   ]
  },
  {
   "cell_type": "code",
   "execution_count": null,
   "id": "332a62d3",
   "metadata": {},
   "outputs": [],
   "source": []
  }
 ],
 "metadata": {
  "kernelspec": {
   "display_name": "Python 3",
   "language": "python",
   "name": "python3"
  },
  "language_info": {
   "codemirror_mode": {
    "name": "ipython",
    "version": 3
   },
   "file_extension": ".py",
   "mimetype": "text/x-python",
   "name": "python",
   "nbconvert_exporter": "python",
   "pygments_lexer": "ipython3",
   "version": "3.8.8"
  }
 },
 "nbformat": 4,
 "nbformat_minor": 5
}
